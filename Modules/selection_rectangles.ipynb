{
 "cells": [
  {
   "cell_type": "code",
   "execution_count": 1,
   "id": "e86b44d6",
   "metadata": {},
   "outputs": [],
   "source": [
    "import numpy as np\n",
    "import pandas as pd\n",
    "\n",
    "def distance(lat_a,lon_a,lat_b,lon_b):\n",
    "    return 6371 * np.arccos(np.sin(np.radians(lat_a))*np.sin(np.radians(lat_b)) + np.cos(np.radians(lat_a))*np.cos(np.radians(lat_b))*np.cos(np.radians(lon_b) - np.radians(lon_a)))"
   ]
  },
  {
   "cell_type": "code",
   "execution_count": 2,
   "id": "d2f6d20a",
   "metadata": {
    "scrolled": true
   },
   "outputs": [],
   "source": [
    "rect = pd.read_csv(\"rectangles.csv\")[['lat_max', 'lon_max', 'lat_min', 'lon_min', 'route_id']]"
   ]
  },
  {
   "cell_type": "code",
   "execution_count": 3,
   "id": "8c1e4923",
   "metadata": {},
   "outputs": [],
   "source": [
    "def rect_retenus(lat, lon, rayon) :\n",
    "    res = pd.DataFrame(np.array([[0., 0., 0., 0., 0.]]), columns = ['lat_max', 'lon_max', 'lat_min', 'lon_min', 'route_id'])\n",
    "    for i in np.array(rect.index) :\n",
    "        # Obligation d'utiliser l'index car il existe plusieurs voyages pour le même route_id (en fonction des différents réseaux)\n",
    "        trip_id = rect.loc[i]['route_id']\n",
    "        lon_max = float(rect.loc[i]['lon_max'])\n",
    "        lat_max = float(rect.loc[i]['lat_max'])\n",
    "        lon_min = float(rect.loc[i]['lon_min'])\n",
    "        lat_min = float(rect.loc[i]['lat_min'])\n",
    "        try :\n",
    "            # --- Etude cas 1 : coin inférieur gauche ---\n",
    "\n",
    "            if lat <= lat_min and lon <= lon_min :\n",
    "                if distance(lat, lon, lat_min, lon_min) < rayon :\n",
    "                    res = pd.DataFrame.append(res, rect.loc[i])\n",
    "\n",
    "                # --- Etude cas 2 : rectangle inférieur ---\n",
    "\n",
    "            elif lat <= lat_min and lon >= lon_min and lon <= lon_max :\n",
    "                if distance(lat, lon, lat, lon_min) <= rayon :\n",
    "                    res = pd.DataFrame.append(res, rect.loc[i])\n",
    "\n",
    "                # --- Etude cas 3 : coin inférieur droit ---\n",
    "\n",
    "            elif lat <= lat_min and lon >= lon_max :\n",
    "                if distance(lat, lon, lat_min, lon_max) <= rayon :\n",
    "                    res = pd.DataFrame.append(res, rect.loc[i])\n",
    "\n",
    "                # --- Etude cas 4 : rectangle gauche ---\n",
    "\n",
    "            elif lat >= lat_min and lat <= lat_max and lon <= lon_min :\n",
    "                if distance(lat, lon, lat_min, lon) <= rayon :\n",
    "                    res = pd.DataFrame.append(res, rect.loc[i])\n",
    "                    \n",
    "                # --- Etude cas 5 : rectangle central ---\n",
    "\n",
    "            elif lat >= lat_min and lat <= lat_max and lon >= lon_min and lon <= lon_max :\n",
    "                res = pd.DataFrame.append(res, rect.loc[i])\n",
    "\n",
    "                # --- Etude cas 6 : rectangle droit ---\n",
    "\n",
    "            elif lat >= lat_min and lat <= lat_max and lon >= lon_max :\n",
    "                if distance(lat, lon, lat_max, lon) <= rayon :\n",
    "                    res = pd.DataFrame.append(res, rect.loc[i])\n",
    "\n",
    "                # --- Etude cas 7 : coin supérieur gauche ---\n",
    "\n",
    "            elif lat >= lat_max and lon <= lon_min :\n",
    "                if distance(lat, lon, lat_max, lon_min) <= rayon :\n",
    "                    res = pd.DataFrame.append(res, rect.loc[i])\n",
    "\n",
    "                # --- Etude cas 8 : rectangle supérieur ---\n",
    "\n",
    "            elif lat >= lat_max and lon >= lon_min and lon <= lon_max :\n",
    "                if distance(lat, lon, lat_max, lon) <= rayon :\n",
    "                    res = pd.DataFrame.append(res, rect.loc[i])\n",
    "\n",
    "                # --- Etude cas 9 : coin supérieur droit ---\n",
    "\n",
    "            elif lat >= lat_max and lon >= lon_max :\n",
    "                if distance(lat, lon, lat_max, lon_max) <= rayon :\n",
    "                    res = pd.DataFrame.append(res, rect.loc[i])\n",
    "                \n",
    "        except :\n",
    "            pass\n",
    "    \n",
    "    return res[1:]"
   ]
  },
  {
   "cell_type": "code",
   "execution_count": null,
   "id": "ba9d7819",
   "metadata": {},
   "outputs": [],
   "source": []
  }
 ],
 "metadata": {
  "kernelspec": {
   "display_name": "Python 3.8.8 ('base')",
   "language": "python",
   "name": "python3"
  },
  "language_info": {
   "codemirror_mode": {
    "name": "ipython",
    "version": 3
   },
   "file_extension": ".py",
   "mimetype": "text/x-python",
   "name": "python",
   "nbconvert_exporter": "python",
   "pygments_lexer": "ipython3",
   "version": "3.8.8"
  },
  "vscode": {
   "interpreter": {
    "hash": "1f4213cb68cc627564ecd43f99ddb7263cd28f6d00ce41e36bdac20abae85fe1"
   }
  }
 },
 "nbformat": 4,
 "nbformat_minor": 5
}
